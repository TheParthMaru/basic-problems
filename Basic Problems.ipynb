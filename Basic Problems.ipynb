{
 "cells": [
  {
   "cell_type": "markdown",
   "id": "5810d728",
   "metadata": {},
   "source": [
    "# Swap two numbers"
   ]
  },
  {
   "cell_type": "markdown",
   "id": "2536f012",
   "metadata": {},
   "source": [
    "**Problem statement**\n",
    "- Given two integer inputs, swap two inputs."
   ]
  },
  {
   "cell_type": "markdown",
   "id": "7891b47e",
   "metadata": {},
   "source": [
    "**Test cases**\n",
    "\n",
    "```\n",
    "Input: 5 10\n",
    "Output: 10 5\n",
    "\n",
    "Input: 2 -3\n",
    "Output: -3 2\n",
    "```"
   ]
  },
  {
   "cell_type": "markdown",
   "id": "9fa4f944",
   "metadata": {},
   "source": [
    "**Solution**\n",
    "_**Approach 1: Using temporary variable**_"
   ]
  },
  {
   "cell_type": "code",
   "execution_count": 1,
   "id": "51227c11",
   "metadata": {},
   "outputs": [
    {
     "name": "stdout",
     "output_type": "stream",
     "text": [
      "6\n",
      "4\n",
      "4 6\n"
     ]
    }
   ],
   "source": [
    "def swap_numbers(a, b):\n",
    "    a,b = b,a\n",
    "    return a,b\n",
    "num1 = int(input())\n",
    "num2 = int(input())\n",
    "\n",
    "num1, num2 = swap_numbers(num1, num2)\n",
    "print(num1, num2)"
   ]
  },
  {
   "cell_type": "markdown",
   "id": "4d7911f9",
   "metadata": {},
   "source": []
  }
 ],
 "metadata": {
  "kernelspec": {
   "display_name": "Python 3 (ipykernel)",
   "language": "python",
   "name": "python3"
  },
  "language_info": {
   "codemirror_mode": {
    "name": "ipython",
    "version": 3
   },
   "file_extension": ".py",
   "mimetype": "text/x-python",
   "name": "python",
   "nbconvert_exporter": "python",
   "pygments_lexer": "ipython3",
   "version": "3.11.1"
  }
 },
 "nbformat": 4,
 "nbformat_minor": 5
}
